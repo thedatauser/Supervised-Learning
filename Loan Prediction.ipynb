{
 "cells": [
  {
   "cell_type": "markdown",
   "id": "88c3d002",
   "metadata": {},
   "source": [
    "## This is a RandomForest Classification Model used for predicting the approval chances of a customer's loan application"
   ]
  },
  {
   "cell_type": "code",
   "execution_count": 1,
   "id": "7920e0af",
   "metadata": {},
   "outputs": [],
   "source": [
    "#import modules\n",
    "import pandas as pd\n",
    "import numpy as np\n",
    "import matplotlib.pyplot as plt\n",
    "import seaborn as sns\n",
    "from sklearn.ensemble import RandomForestClassifier\n",
    "from sklearn.metrics import r2_score, mean_squared_error, mean_absolute_error\n",
    "from sklearn.model_selection import train_test_split, GridSearchCV\n",
    "from math import sqrt\n",
    "from sklearn.preprocessing import LabelEncoder"
   ]
  },
  {
   "cell_type": "code",
   "execution_count": 2,
   "id": "6cbba696",
   "metadata": {},
   "outputs": [],
   "source": [
    "#import historical loan dataset"
   ]
  },
  {
   "cell_type": "code",
   "execution_count": 3,
   "id": "60612caa",
   "metadata": {},
   "outputs": [],
   "source": [
    "loan = pd.read_csv(r\"/Users/kikelomoobayemi/Downloads/train_ctrUa4K.csv\")"
   ]
  },
  {
   "cell_type": "markdown",
   "id": "e1cc05c9",
   "metadata": {},
   "source": [
    "## The data cleaning steps"
   ]
  },
  {
   "cell_type": "code",
   "execution_count": 4,
   "id": "6cbbfb09",
   "metadata": {},
   "outputs": [
    {
     "name": "stdout",
     "output_type": "stream",
     "text": [
      "<class 'pandas.core.frame.DataFrame'>\n",
      "RangeIndex: 614 entries, 0 to 613\n",
      "Data columns (total 13 columns):\n",
      " #   Column             Non-Null Count  Dtype  \n",
      "---  ------             --------------  -----  \n",
      " 0   Loan_ID            614 non-null    object \n",
      " 1   Gender             601 non-null    object \n",
      " 2   Married            611 non-null    object \n",
      " 3   Dependents         599 non-null    object \n",
      " 4   Education          614 non-null    object \n",
      " 5   Self_Employed      582 non-null    object \n",
      " 6   ApplicantIncome    614 non-null    int64  \n",
      " 7   CoapplicantIncome  614 non-null    float64\n",
      " 8   LoanAmount         592 non-null    float64\n",
      " 9   Loan_Amount_Term   600 non-null    float64\n",
      " 10  Credit_History     564 non-null    float64\n",
      " 11  Property_Area      614 non-null    object \n",
      " 12  Loan_Status        614 non-null    object \n",
      "dtypes: float64(4), int64(1), object(8)\n",
      "memory usage: 62.5+ KB\n"
     ]
    }
   ],
   "source": [
    "loan.info()"
   ]
  },
  {
   "cell_type": "code",
   "execution_count": 5,
   "id": "e6c74f77",
   "metadata": {},
   "outputs": [
    {
     "data": {
      "text/plain": [
       "614"
      ]
     },
     "execution_count": 5,
     "metadata": {},
     "output_type": "execute_result"
    }
   ],
   "source": [
    "#checking for duplicate data\n",
    "loan['Loan_ID'].nunique()"
   ]
  },
  {
   "cell_type": "code",
   "execution_count": 6,
   "id": "a496d648",
   "metadata": {},
   "outputs": [
    {
     "name": "stderr",
     "output_type": "stream",
     "text": [
      "/Users/kikelomoobayemi/opt/anaconda3/lib/python3.9/site-packages/seaborn/_decorators.py:36: FutureWarning: Pass the following variables as keyword args: x, y. From version 0.12, the only valid positional argument will be `data`, and passing other arguments without an explicit keyword will result in an error or misinterpretation.\n",
      "  warnings.warn(\n"
     ]
    },
    {
     "data": {
      "text/plain": [
       "<AxesSubplot:xlabel='Loan_Amount_Term', ylabel='LoanAmount'>"
      ]
     },
     "execution_count": 6,
     "metadata": {},
     "output_type": "execute_result"
    },
    {
     "data": {
      "image/png": "[encoded data removed]",
      "text/plain": [
       "<Figure size 432x288 with 1 Axes>"
      ]
     },
     "metadata": {
      "needs_background": "light"
     },
     "output_type": "display_data"
    }
   ],
   "source": [
    "#scatterplot to see if there is correlation between loan Amount and Loan Term\n",
    "sns.scatterplot(loan['Loan_Amount_Term'], loan['LoanAmount'])\n"
   ]
  },
  {
   "cell_type": "code",
   "execution_count": 7,
   "id": "88432f63",
   "metadata": {},
   "outputs": [
    {
     "data": {
      "text/html": [
       "<div>\n",
       "<style scoped>\n",
       "    .dataframe tbody tr th:only-of-type {\n",
       "        vertical-align: middle;\n",
       "    }\n",
       "\n",
       "    .dataframe tbody tr th {\n",
       "        vertical-align: top;\n",
       "    }\n",
       "\n",
       "    .dataframe thead th {\n",
       "        text-align: right;\n",
       "    }\n",
       "</style>\n",
       "<table border=\"1\" class=\"dataframe\">\n",
       "  <thead>\n",
       "    <tr style=\"text-align: right;\">\n",
       "      <th></th>\n",
       "      <th>ApplicantIncome</th>\n",
       "      <th>CoapplicantIncome</th>\n",
       "      <th>LoanAmount</th>\n",
       "      <th>Loan_Amount_Term</th>\n",
       "      <th>Credit_History</th>\n",
       "    </tr>\n",
       "  </thead>\n",
       "  <tbody>\n",
       "    <tr>\n",
       "      <th>count</th>\n",
       "      <td>614.000000</td>\n",
       "      <td>614.000000</td>\n",
       "      <td>592.000000</td>\n",
       "      <td>600.00000</td>\n",
       "      <td>564.000000</td>\n",
       "    </tr>\n",
       "    <tr>\n",
       "      <th>mean</th>\n",
       "      <td>5403.459283</td>\n",
       "      <td>1621.245798</td>\n",
       "      <td>146.412162</td>\n",
       "      <td>342.00000</td>\n",
       "      <td>0.842199</td>\n",
       "    </tr>\n",
       "    <tr>\n",
       "      <th>std</th>\n",
       "      <td>6109.041673</td>\n",
       "      <td>2926.248369</td>\n",
       "      <td>85.587325</td>\n",
       "      <td>65.12041</td>\n",
       "      <td>0.364878</td>\n",
       "    </tr>\n",
       "    <tr>\n",
       "      <th>min</th>\n",
       "      <td>150.000000</td>\n",
       "      <td>0.000000</td>\n",
       "      <td>9.000000</td>\n",
       "      <td>12.00000</td>\n",
       "      <td>0.000000</td>\n",
       "    </tr>\n",
       "    <tr>\n",
       "      <th>25%</th>\n",
       "      <td>2877.500000</td>\n",
       "      <td>0.000000</td>\n",
       "      <td>100.000000</td>\n",
       "      <td>360.00000</td>\n",
       "      <td>1.000000</td>\n",
       "    </tr>\n",
       "    <tr>\n",
       "      <th>50%</th>\n",
       "      <td>3812.500000</td>\n",
       "      <td>1188.500000</td>\n",
       "      <td>128.000000</td>\n",
       "      <td>360.00000</td>\n",
       "      <td>1.000000</td>\n",
       "    </tr>\n",
       "    <tr>\n",
       "      <th>75%</th>\n",
       "      <td>5795.000000</td>\n",
       "      <td>2297.250000</td>\n",
       "      <td>168.000000</td>\n",
       "      <td>360.00000</td>\n",
       "      <td>1.000000</td>\n",
       "    </tr>\n",
       "    <tr>\n",
       "      <th>max</th>\n",
       "      <td>81000.000000</td>\n",
       "      <td>41667.000000</td>\n",
       "      <td>700.000000</td>\n",
       "      <td>480.00000</td>\n",
       "      <td>1.000000</td>\n",
       "    </tr>\n",
       "  </tbody>\n",
       "</table>\n",
       "</div>"
      ],
      "text/plain": [
       "       ApplicantIncome  CoapplicantIncome  LoanAmount  Loan_Amount_Term  \\\n",
       "count       614.000000         614.000000  592.000000         600.00000   \n",
       "mean       5403.459283        1621.245798  146.412162         342.00000   \n",
       "std        6109.041673        2926.248369   85.587325          65.12041   \n",
       "min         150.000000           0.000000    9.000000          12.00000   \n",
       "25%        2877.500000           0.000000  100.000000         360.00000   \n",
       "50%        3812.500000        1188.500000  128.000000         360.00000   \n",
       "75%        5795.000000        2297.250000  168.000000         360.00000   \n",
       "max       81000.000000       41667.000000  700.000000         480.00000   \n",
       "\n",
       "       Credit_History  \n",
       "count      564.000000  \n",
       "mean         0.842199  \n",
       "std          0.364878  \n",
       "min          0.000000  \n",
       "25%          1.000000  \n",
       "50%          1.000000  \n",
       "75%          1.000000  \n",
       "max          1.000000  "
      ]
     },
     "execution_count": 7,
     "metadata": {},
     "output_type": "execute_result"
    }
   ],
   "source": [
    "#summary stats\n",
    "loan.describe()"
   ]
  },
  {
   "cell_type": "code",
   "execution_count": 8,
   "id": "4da18764",
   "metadata": {},
   "outputs": [
    {
     "data": {
      "text/html": [
       "<div>\n",
       "<style scoped>\n",
       "    .dataframe tbody tr th:only-of-type {\n",
       "        vertical-align: middle;\n",
       "    }\n",
       "\n",
       "    .dataframe tbody tr th {\n",
       "        vertical-align: top;\n",
       "    }\n",
       "\n",
       "    .dataframe thead th {\n",
       "        text-align: right;\n",
       "    }\n",
       "</style>\n",
       "<table border=\"1\" class=\"dataframe\">\n",
       "  <thead>\n",
       "    <tr style=\"text-align: right;\">\n",
       "      <th></th>\n",
       "      <th>Loan_ID</th>\n",
       "      <th>Gender</th>\n",
       "      <th>Married</th>\n",
       "      <th>Dependents</th>\n",
       "      <th>Education</th>\n",
       "      <th>Self_Employed</th>\n",
       "      <th>ApplicantIncome</th>\n",
       "      <th>CoapplicantIncome</th>\n",
       "      <th>LoanAmount</th>\n",
       "      <th>Loan_Amount_Term</th>\n",
       "      <th>Credit_History</th>\n",
       "      <th>Property_Area</th>\n",
       "      <th>Loan_Status</th>\n",
       "    </tr>\n",
       "  </thead>\n",
       "  <tbody>\n",
       "    <tr>\n",
       "      <th>0</th>\n",
       "      <td>LP001002</td>\n",
       "      <td>Male</td>\n",
       "      <td>No</td>\n",
       "      <td>0</td>\n",
       "      <td>Graduate</td>\n",
       "      <td>No</td>\n",
       "      <td>5849</td>\n",
       "      <td>0.0</td>\n",
       "      <td>NaN</td>\n",
       "      <td>360.0</td>\n",
       "      <td>1.0</td>\n",
       "      <td>Urban</td>\n",
       "      <td>Y</td>\n",
       "    </tr>\n",
       "    <tr>\n",
       "      <th>1</th>\n",
       "      <td>LP001003</td>\n",
       "      <td>Male</td>\n",
       "      <td>Yes</td>\n",
       "      <td>1</td>\n",
       "      <td>Graduate</td>\n",
       "      <td>No</td>\n",
       "      <td>4583</td>\n",
       "      <td>1508.0</td>\n",
       "      <td>128.0</td>\n",
       "      <td>360.0</td>\n",
       "      <td>1.0</td>\n",
       "      <td>Rural</td>\n",
       "      <td>N</td>\n",
       "    </tr>\n",
       "    <tr>\n",
       "      <th>2</th>\n",
       "      <td>LP001005</td>\n",
       "      <td>Male</td>\n",
       "      <td>Yes</td>\n",
       "      <td>0</td>\n",
       "      <td>Graduate</td>\n",
       "      <td>Yes</td>\n",
       "      <td>3000</td>\n",
       "      <td>0.0</td>\n",
       "      <td>66.0</td>\n",
       "      <td>360.0</td>\n",
       "      <td>1.0</td>\n",
       "      <td>Urban</td>\n",
       "      <td>Y</td>\n",
       "    </tr>\n",
       "    <tr>\n",
       "      <th>3</th>\n",
       "      <td>LP001006</td>\n",
       "      <td>Male</td>\n",
       "      <td>Yes</td>\n",
       "      <td>0</td>\n",
       "      <td>Not Graduate</td>\n",
       "      <td>No</td>\n",
       "      <td>2583</td>\n",
       "      <td>2358.0</td>\n",
       "      <td>120.0</td>\n",
       "      <td>360.0</td>\n",
       "      <td>1.0</td>\n",
       "      <td>Urban</td>\n",
       "      <td>Y</td>\n",
       "    </tr>\n",
       "    <tr>\n",
       "      <th>4</th>\n",
       "      <td>LP001008</td>\n",
       "      <td>Male</td>\n",
       "      <td>No</td>\n",
       "      <td>0</td>\n",
       "      <td>Graduate</td>\n",
       "      <td>No</td>\n",
       "      <td>6000</td>\n",
       "      <td>0.0</td>\n",
       "      <td>141.0</td>\n",
       "      <td>360.0</td>\n",
       "      <td>1.0</td>\n",
       "      <td>Urban</td>\n",
       "      <td>Y</td>\n",
       "    </tr>\n",
       "  </tbody>\n",
       "</table>\n",
       "</div>"
      ],
      "text/plain": [
       "    Loan_ID Gender Married Dependents     Education Self_Employed  \\\n",
       "0  LP001002   Male      No          0      Graduate            No   \n",
       "1  LP001003   Male     Yes          1      Graduate            No   \n",
       "2  LP001005   Male     Yes          0      Graduate           Yes   \n",
       "3  LP001006   Male     Yes          0  Not Graduate            No   \n",
       "4  LP001008   Male      No          0      Graduate            No   \n",
       "\n",
       "   ApplicantIncome  CoapplicantIncome  LoanAmount  Loan_Amount_Term  \\\n",
       "0             5849                0.0         NaN             360.0   \n",
       "1             4583             1508.0       128.0             360.0   \n",
       "2             3000                0.0        66.0             360.0   \n",
       "3             2583             2358.0       120.0             360.0   \n",
       "4             6000                0.0       141.0             360.0   \n",
       "\n",
       "   Credit_History Property_Area Loan_Status  \n",
       "0             1.0         Urban           Y  \n",
       "1             1.0         Rural           N  \n",
       "2             1.0         Urban           Y  \n",
       "3             1.0         Urban           Y  \n",
       "4             1.0         Urban           Y  "
      ]
     },
     "execution_count": 8,
     "metadata": {},
     "output_type": "execute_result"
    }
   ],
   "source": [
    "loan.head()"
   ]
  },
  {
   "cell_type": "code",
   "execution_count": 9,
   "id": "db656084",
   "metadata": {},
   "outputs": [],
   "source": [
    "#label encoding for categorical variables\n",
    "le = LabelEncoder()\n",
    "loan['Self_Employed'] = le.fit_transform(loan['Self_Employed'])\n",
    "loan['Property_Area'] = le.fit_transform(loan['Property_Area'])\n",
    "loan['Education'] = le.fit_transform(loan['Education'])\n",
    "loan['Gender'] = le.fit_transform(loan['Gender'])\n",
    "loan['Married'] = le.fit_transform(loan['Married'])\n",
    "loan['Loan_Status'] = le.fit_transform(loan['Loan_Status'])"
   ]
  },
  {
   "cell_type": "code",
   "execution_count": 10,
   "id": "ddb3b047",
   "metadata": {},
   "outputs": [],
   "source": [
    "#change data type to categorical\n",
    "\n",
    "loan['Gender'] = loan['Gender'].astype('category')\n",
    "loan['Married'] = loan['Married'].astype('category')\n",
    "loan['Loan_Status'] = loan['Loan_Status'].astype('category')\n",
    "loan['Self_Employed'] = loan['Self_Employed'].astype('category')\n",
    "loan['Property_Area'] = loan['Property_Area'].astype('category')\n",
    "loan['Education'] = loan['Education'].astype('category')\n",
    "loan['Credit_History'] = loan['Credit_History'].astype('category')"
   ]
  },
  {
   "cell_type": "code",
   "execution_count": 11,
   "id": "6f76655e",
   "metadata": {},
   "outputs": [
    {
     "data": {
      "text/html": [
       "<div>\n",
       "<style scoped>\n",
       "    .dataframe tbody tr th:only-of-type {\n",
       "        vertical-align: middle;\n",
       "    }\n",
       "\n",
       "    .dataframe tbody tr th {\n",
       "        vertical-align: top;\n",
       "    }\n",
       "\n",
       "    .dataframe thead th {\n",
       "        text-align: right;\n",
       "    }\n",
       "</style>\n",
       "<table border=\"1\" class=\"dataframe\">\n",
       "  <thead>\n",
       "    <tr style=\"text-align: right;\">\n",
       "      <th></th>\n",
       "      <th>Loan_ID</th>\n",
       "      <th>Gender</th>\n",
       "      <th>Married</th>\n",
       "      <th>Dependents</th>\n",
       "      <th>Education</th>\n",
       "      <th>Self_Employed</th>\n",
       "      <th>ApplicantIncome</th>\n",
       "      <th>CoapplicantIncome</th>\n",
       "      <th>LoanAmount</th>\n",
       "      <th>Loan_Amount_Term</th>\n",
       "      <th>Credit_History</th>\n",
       "      <th>Property_Area</th>\n",
       "      <th>Loan_Status</th>\n",
       "    </tr>\n",
       "  </thead>\n",
       "  <tbody>\n",
       "    <tr>\n",
       "      <th>0</th>\n",
       "      <td>LP001002</td>\n",
       "      <td>1</td>\n",
       "      <td>0</td>\n",
       "      <td>0</td>\n",
       "      <td>0</td>\n",
       "      <td>0</td>\n",
       "      <td>5849</td>\n",
       "      <td>0.0</td>\n",
       "      <td>NaN</td>\n",
       "      <td>360.0</td>\n",
       "      <td>1.0</td>\n",
       "      <td>2</td>\n",
       "      <td>1</td>\n",
       "    </tr>\n",
       "    <tr>\n",
       "      <th>1</th>\n",
       "      <td>LP001003</td>\n",
       "      <td>1</td>\n",
       "      <td>1</td>\n",
       "      <td>1</td>\n",
       "      <td>0</td>\n",
       "      <td>0</td>\n",
       "      <td>4583</td>\n",
       "      <td>1508.0</td>\n",
       "      <td>128.0</td>\n",
       "      <td>360.0</td>\n",
       "      <td>1.0</td>\n",
       "      <td>0</td>\n",
       "      <td>0</td>\n",
       "    </tr>\n",
       "    <tr>\n",
       "      <th>2</th>\n",
       "      <td>LP001005</td>\n",
       "      <td>1</td>\n",
       "      <td>1</td>\n",
       "      <td>0</td>\n",
       "      <td>0</td>\n",
       "      <td>1</td>\n",
       "      <td>3000</td>\n",
       "      <td>0.0</td>\n",
       "      <td>66.0</td>\n",
       "      <td>360.0</td>\n",
       "      <td>1.0</td>\n",
       "      <td>2</td>\n",
       "      <td>1</td>\n",
       "    </tr>\n",
       "    <tr>\n",
       "      <th>3</th>\n",
       "      <td>LP001006</td>\n",
       "      <td>1</td>\n",
       "      <td>1</td>\n",
       "      <td>0</td>\n",
       "      <td>1</td>\n",
       "      <td>0</td>\n",
       "      <td>2583</td>\n",
       "      <td>2358.0</td>\n",
       "      <td>120.0</td>\n",
       "      <td>360.0</td>\n",
       "      <td>1.0</td>\n",
       "      <td>2</td>\n",
       "      <td>1</td>\n",
       "    </tr>\n",
       "    <tr>\n",
       "      <th>4</th>\n",
       "      <td>LP001008</td>\n",
       "      <td>1</td>\n",
       "      <td>0</td>\n",
       "      <td>0</td>\n",
       "      <td>0</td>\n",
       "      <td>0</td>\n",
       "      <td>6000</td>\n",
       "      <td>0.0</td>\n",
       "      <td>141.0</td>\n",
       "      <td>360.0</td>\n",
       "      <td>1.0</td>\n",
       "      <td>2</td>\n",
       "      <td>1</td>\n",
       "    </tr>\n",
       "  </tbody>\n",
       "</table>\n",
       "</div>"
      ],
      "text/plain": [
       "    Loan_ID Gender Married Dependents Education Self_Employed  \\\n",
       "0  LP001002      1       0          0         0             0   \n",
       "1  LP001003      1       1          1         0             0   \n",
       "2  LP001005      1       1          0         0             1   \n",
       "3  LP001006      1       1          0         1             0   \n",
       "4  LP001008      1       0          0         0             0   \n",
       "\n",
       "   ApplicantIncome  CoapplicantIncome  LoanAmount  Loan_Amount_Term  \\\n",
       "0             5849                0.0         NaN             360.0   \n",
       "1             4583             1508.0       128.0             360.0   \n",
       "2             3000                0.0        66.0             360.0   \n",
       "3             2583             2358.0       120.0             360.0   \n",
       "4             6000                0.0       141.0             360.0   \n",
       "\n",
       "  Credit_History Property_Area Loan_Status  \n",
       "0            1.0             2           1  \n",
       "1            1.0             0           0  \n",
       "2            1.0             2           1  \n",
       "3            1.0             2           1  \n",
       "4            1.0             2           1  "
      ]
     },
     "execution_count": 11,
     "metadata": {},
     "output_type": "execute_result"
    }
   ],
   "source": [
    "loan.head()"
   ]
  },
  {
   "cell_type": "code",
   "execution_count": 12,
   "id": "a480c9e5",
   "metadata": {},
   "outputs": [
    {
     "name": "stdout",
     "output_type": "stream",
     "text": [
      "<class 'pandas.core.frame.DataFrame'>\n",
      "RangeIndex: 614 entries, 0 to 613\n",
      "Data columns (total 13 columns):\n",
      " #   Column             Non-Null Count  Dtype   \n",
      "---  ------             --------------  -----   \n",
      " 0   Loan_ID            614 non-null    object  \n",
      " 1   Gender             614 non-null    category\n",
      " 2   Married            614 non-null    category\n",
      " 3   Dependents         599 non-null    object  \n",
      " 4   Education          614 non-null    category\n",
      " 5   Self_Employed      614 non-null    category\n",
      " 6   ApplicantIncome    614 non-null    int64   \n",
      " 7   CoapplicantIncome  614 non-null    float64 \n",
      " 8   LoanAmount         592 non-null    float64 \n",
      " 9   Loan_Amount_Term   600 non-null    float64 \n",
      " 10  Credit_History     564 non-null    category\n",
      " 11  Property_Area      614 non-null    category\n",
      " 12  Loan_Status        614 non-null    category\n",
      "dtypes: category(7), float64(3), int64(1), object(2)\n",
      "memory usage: 34.0+ KB\n"
     ]
    }
   ],
   "source": [
    "loan.info()"
   ]
  },
  {
   "cell_type": "code",
   "execution_count": 14,
   "id": "41fc33c4",
   "metadata": {},
   "outputs": [],
   "source": [
    "loan = loan.dropna(subset = ['Credit_History', 'LoanAmount'])"
   ]
  },
  {
   "cell_type": "code",
   "execution_count": 15,
   "id": "a5036547",
   "metadata": {},
   "outputs": [
    {
     "name": "stdout",
     "output_type": "stream",
     "text": [
      "<class 'pandas.core.frame.DataFrame'>\n",
      "Int64Index: 543 entries, 1 to 613\n",
      "Data columns (total 13 columns):\n",
      " #   Column             Non-Null Count  Dtype   \n",
      "---  ------             --------------  -----   \n",
      " 0   Loan_ID            543 non-null    object  \n",
      " 1   Gender             543 non-null    category\n",
      " 2   Married            543 non-null    category\n",
      " 3   Dependents         530 non-null    object  \n",
      " 4   Education          543 non-null    category\n",
      " 5   Self_Employed      543 non-null    category\n",
      " 6   ApplicantIncome    543 non-null    int64   \n",
      " 7   CoapplicantIncome  543 non-null    float64 \n",
      " 8   LoanAmount         543 non-null    float64 \n",
      " 9   Loan_Amount_Term   529 non-null    float64 \n",
      " 10  Credit_History     543 non-null    category\n",
      " 11  Property_Area      543 non-null    category\n",
      " 12  Loan_Status        543 non-null    category\n",
      "dtypes: category(7), float64(3), int64(1), object(2)\n",
      "memory usage: 34.3+ KB\n"
     ]
    }
   ],
   "source": [
    "loan.info()"
   ]
  },
  {
   "cell_type": "code",
   "execution_count": 16,
   "id": "9480a629",
   "metadata": {},
   "outputs": [],
   "source": [
    "loan = loan.replace(\"3+\", 3)"
   ]
  },
  {
   "cell_type": "code",
   "execution_count": 17,
   "id": "38d887dc",
   "metadata": {},
   "outputs": [],
   "source": [
    "loan['Dependents'] = loan['Dependents'].astype('float64')"
   ]
  },
  {
   "cell_type": "code",
   "execution_count": 18,
   "id": "ad49ce28",
   "metadata": {},
   "outputs": [
    {
     "name": "stdout",
     "output_type": "stream",
     "text": [
      "<class 'pandas.core.frame.DataFrame'>\n",
      "Int64Index: 543 entries, 1 to 613\n",
      "Data columns (total 13 columns):\n",
      " #   Column             Non-Null Count  Dtype   \n",
      "---  ------             --------------  -----   \n",
      " 0   Loan_ID            543 non-null    object  \n",
      " 1   Gender             543 non-null    category\n",
      " 2   Married            543 non-null    category\n",
      " 3   Dependents         530 non-null    float64 \n",
      " 4   Education          543 non-null    category\n",
      " 5   Self_Employed      543 non-null    category\n",
      " 6   ApplicantIncome    543 non-null    int64   \n",
      " 7   CoapplicantIncome  543 non-null    float64 \n",
      " 8   LoanAmount         543 non-null    float64 \n",
      " 9   Loan_Amount_Term   529 non-null    float64 \n",
      " 10  Credit_History     543 non-null    category\n",
      " 11  Property_Area      543 non-null    category\n",
      " 12  Loan_Status        543 non-null    category\n",
      "dtypes: category(7), float64(4), int64(1), object(1)\n",
      "memory usage: 34.3+ KB\n"
     ]
    }
   ],
   "source": [
    "loan.info()"
   ]
  },
  {
   "cell_type": "code",
   "execution_count": 19,
   "id": "2da63fc7",
   "metadata": {},
   "outputs": [],
   "source": [
    "loan['Dependents'] = loan['Dependents'].fillna(0)\n",
    "loan['Loan_Amount_Term'] = loan['Loan_Amount_Term'].fillna(360)\n"
   ]
  },
  {
   "cell_type": "code",
   "execution_count": 20,
   "id": "d98f1cf4",
   "metadata": {},
   "outputs": [
    {
     "name": "stdout",
     "output_type": "stream",
     "text": [
      "<class 'pandas.core.frame.DataFrame'>\n",
      "Int64Index: 543 entries, 1 to 613\n",
      "Data columns (total 13 columns):\n",
      " #   Column             Non-Null Count  Dtype   \n",
      "---  ------             --------------  -----   \n",
      " 0   Loan_ID            543 non-null    object  \n",
      " 1   Gender             543 non-null    category\n",
      " 2   Married            543 non-null    category\n",
      " 3   Dependents         543 non-null    float64 \n",
      " 4   Education          543 non-null    category\n",
      " 5   Self_Employed      543 non-null    category\n",
      " 6   ApplicantIncome    543 non-null    int64   \n",
      " 7   CoapplicantIncome  543 non-null    float64 \n",
      " 8   LoanAmount         543 non-null    float64 \n",
      " 9   Loan_Amount_Term   543 non-null    float64 \n",
      " 10  Credit_History     543 non-null    category\n",
      " 11  Property_Area      543 non-null    category\n",
      " 12  Loan_Status        543 non-null    category\n",
      "dtypes: category(7), float64(4), int64(1), object(1)\n",
      "memory usage: 34.3+ KB\n"
     ]
    }
   ],
   "source": [
    "loan.info()"
   ]
  },
  {
   "cell_type": "code",
   "execution_count": 21,
   "id": "23f649c9",
   "metadata": {},
   "outputs": [],
   "source": [
    "#setting features and label\n",
    "\n",
    "X = loan.drop(['Loan_Status','Loan_ID'], axis = 1)\n",
    "y = loan['Loan_Status']"
   ]
  },
  {
   "cell_type": "code",
   "execution_count": 22,
   "id": "e7649529",
   "metadata": {},
   "outputs": [
    {
     "data": {
      "text/plain": [
       "((407, 11), (136, 11))"
      ]
     },
     "execution_count": 22,
     "metadata": {},
     "output_type": "execute_result"
    }
   ],
   "source": [
    "X_train, X_test, y_train, y_test = train_test_split(X,y, train_size=0.75, random_state=42)\n",
    "X_train.shape, X_test.shape"
   ]
  },
  {
   "cell_type": "markdown",
   "id": "6a83b845",
   "metadata": {},
   "source": [
    "## Building the RandomForest Classification Model"
   ]
  },
  {
   "cell_type": "code",
   "execution_count": 24,
   "id": "883da7aa",
   "metadata": {},
   "outputs": [
    {
     "data": {
      "text/plain": [
       "0.8034398034398035"
      ]
     },
     "execution_count": 24,
     "metadata": {},
     "output_type": "execute_result"
    }
   ],
   "source": [
    "classifier_rf = RandomForestClassifier(random_state = 42, n_jobs = -1, max_depth = 5, \n",
    "                n_estimators = 100, oob_score = True)\n",
    "\n",
    "\n",
    "classifier_rf.fit(X_train,y_train)\n",
    "classifier_rf.oob_score_"
   ]
  },
  {
   "cell_type": "code",
   "execution_count": 26,
   "id": "0da5f97d",
   "metadata": {},
   "outputs": [],
   "source": [
    "#Implementing GridSearch to get the best parameters"
   ]
  },
  {
   "cell_type": "code",
   "execution_count": 27,
   "id": "63247eeb",
   "metadata": {},
   "outputs": [],
   "source": [
    "rf = RandomForestClassifier(random_state = 42, n_jobs = -1)\n",
    "params = {\n",
    "            'max_depth': [2,3,5,10,20],\n",
    "            'min_samples_leaf': [5,10,20,50,100,200],\n",
    "            'n_estimators': [10,25,30,50,100,200]\n",
    "        }"
   ]
  },
  {
   "cell_type": "code",
   "execution_count": 28,
   "id": "ea1eca3a",
   "metadata": {},
   "outputs": [
    {
     "name": "stdout",
     "output_type": "stream",
     "text": [
      "Fitting 4 folds for each of 180 candidates, totalling 720 fits\n"
     ]
    },
    {
     "data": {
      "text/plain": [
       "GridSearchCV(cv=4, estimator=RandomForestClassifier(n_jobs=-1, random_state=42),\n",
       "             n_jobs=-1,\n",
       "             param_grid={'max_depth': [2, 3, 5, 10, 20],\n",
       "                         'min_samples_leaf': [5, 10, 20, 50, 100, 200],\n",
       "                         'n_estimators': [10, 25, 30, 50, 100, 200]},\n",
       "             scoring='accuracy', verbose=1)"
      ]
     },
     "execution_count": 28,
     "metadata": {},
     "output_type": "execute_result"
    }
   ],
   "source": [
    "#Instantiate the grid search model\n",
    "\n",
    "grid_search = GridSearchCV(estimator = rf,\n",
    "               param_grid = params,\n",
    "               cv = 4,\n",
    "               n_jobs = -1, verbose = 1, scoring = \"accuracy\")\n",
    "\n",
    "grid_search.fit(X_train,y_train)"
   ]
  },
  {
   "cell_type": "code",
   "execution_count": 29,
   "id": "e15b1b2f",
   "metadata": {},
   "outputs": [
    {
     "name": "stdout",
     "output_type": "stream",
     "text": [
      "Best CV accuracy: 0.8107891671520093, with parameters: {'max_depth': 2, 'min_samples_leaf': 5, 'n_estimators': 10}\n"
     ]
    }
   ],
   "source": [
    "print(\"Best CV accuracy: {}, with parameters: {}\".format(\n",
    "    grid_search.best_score_, grid_search.best_params_))"
   ]
  },
  {
   "cell_type": "code",
   "execution_count": 30,
   "id": "db56c8a7",
   "metadata": {},
   "outputs": [
    {
     "name": "stderr",
     "output_type": "stream",
     "text": [
      "/Users/kikelomoobayemi/opt/anaconda3/lib/python3.9/site-packages/sklearn/ensemble/_forest.py:541: UserWarning: Some inputs do not have OOB scores. This probably means too few trees were used to compute any reliable oob estimates.\n",
      "  warn(\"Some inputs do not have OOB scores. \"\n",
      "/Users/kikelomoobayemi/opt/anaconda3/lib/python3.9/site-packages/sklearn/ensemble/_forest.py:545: RuntimeWarning: invalid value encountered in true_divide\n",
      "  decision = (predictions[k] /\n"
     ]
    },
    {
     "data": {
      "text/plain": [
       "0.8011049723756906"
      ]
     },
     "execution_count": 30,
     "metadata": {},
     "output_type": "execute_result"
    }
   ],
   "source": [
    "classifier_rf2 = RandomForestClassifier(random_state = 42, n_jobs = -1, max_depth = 2, \n",
    "                n_estimators = 10, min_samples_leaf = 5, oob_score = True)\n",
    "\n",
    "\n",
    "classifier_rf2.fit(X,y)\n",
    "classifier_rf2.oob_score_"
   ]
  },
  {
   "cell_type": "code",
   "execution_count": 31,
   "id": "cfba47fb",
   "metadata": {},
   "outputs": [],
   "source": [
    "def evaluate(model, X_test, y_test):\n",
    "    predictions = model.predict(X_test)\n",
    "    r2 = r2_score(y_pred=predictions, y_true=y_test)\n",
    "    rmse = sqrt(mean_squared_error(y_test, predictions))\n",
    "    mae=mean_absolute_error(y_test, predictions)\n",
    "    print('Model Performance')\n",
    "    print('R2 = {:0.2f}%.'.format(r2))\n",
    "    print('RMSE = {:0.2f}.'.format(rmse))\n",
    "    print('MAE = {:0.2f}.'.format(mae))\n",
    "    print(predictions)"
   ]
  },
  {
   "cell_type": "code",
   "execution_count": 32,
   "id": "5a5f89f4",
   "metadata": {},
   "outputs": [
    {
     "name": "stdout",
     "output_type": "stream",
     "text": [
      "Model Performance\n",
      "R2 = 0.21%.\n",
      "RMSE = 0.39.\n",
      "MAE = 0.15.\n",
      "[1 0 0 1 1 1 1 1 1 1 0 1 1 1 1 1 0 1 1 1 1 1 1 1 1 1 1 1 1 1 1 1 1 1 1 1 1\n",
      " 1 1 1 1 1 1 1 1 1 1 0 1 1 1 1 1 1 1 1 1 1 1 1 1 1 0 1 0 1 1 1 1 0 0 1 1 1\n",
      " 1 1 1 1 1 1 1 1 1 1 1 1 1 1 1 0 0 1 1 1 0 1 1 1 0 1 1 0 1 1 1 1 1 1 1 1 1\n",
      " 0 0 1 1 1 1 1 1 0 1 1 1 1 1 1 1 1 1 0 1 1 1 1 1 0]\n"
     ]
    }
   ],
   "source": [
    "evaluate(classifier_rf2, X_test, y_test)"
   ]
  },
  {
   "cell_type": "code",
   "execution_count": 33,
   "id": "aa6d5ee0",
   "metadata": {},
   "outputs": [],
   "source": [
    "#import dataset for predictions"
   ]
  },
  {
   "cell_type": "code",
   "execution_count": 34,
   "id": "144c5130",
   "metadata": {},
   "outputs": [],
   "source": [
    "loan_test = pd.read_csv(r'/Users/kikelomoobayemi/Downloads/test_lAUu6dG.csv')"
   ]
  },
  {
   "cell_type": "code",
   "execution_count": 35,
   "id": "4cae3aa1",
   "metadata": {},
   "outputs": [
    {
     "name": "stdout",
     "output_type": "stream",
     "text": [
      "<class 'pandas.core.frame.DataFrame'>\n",
      "RangeIndex: 367 entries, 0 to 366\n",
      "Data columns (total 12 columns):\n",
      " #   Column             Non-Null Count  Dtype  \n",
      "---  ------             --------------  -----  \n",
      " 0   Loan_ID            367 non-null    object \n",
      " 1   Gender             356 non-null    object \n",
      " 2   Married            367 non-null    object \n",
      " 3   Dependents         357 non-null    object \n",
      " 4   Education          367 non-null    object \n",
      " 5   Self_Employed      344 non-null    object \n",
      " 6   ApplicantIncome    367 non-null    int64  \n",
      " 7   CoapplicantIncome  367 non-null    int64  \n",
      " 8   LoanAmount         362 non-null    float64\n",
      " 9   Loan_Amount_Term   361 non-null    float64\n",
      " 10  Credit_History     338 non-null    float64\n",
      " 11  Property_Area      367 non-null    object \n",
      "dtypes: float64(3), int64(2), object(7)\n",
      "memory usage: 34.5+ KB\n"
     ]
    }
   ],
   "source": [
    "loan_test.info()"
   ]
  },
  {
   "cell_type": "code",
   "execution_count": 36,
   "id": "67ca2de9",
   "metadata": {},
   "outputs": [
    {
     "data": {
      "text/html": [
       "<div>\n",
       "<style scoped>\n",
       "    .dataframe tbody tr th:only-of-type {\n",
       "        vertical-align: middle;\n",
       "    }\n",
       "\n",
       "    .dataframe tbody tr th {\n",
       "        vertical-align: top;\n",
       "    }\n",
       "\n",
       "    .dataframe thead th {\n",
       "        text-align: right;\n",
       "    }\n",
       "</style>\n",
       "<table border=\"1\" class=\"dataframe\">\n",
       "  <thead>\n",
       "    <tr style=\"text-align: right;\">\n",
       "      <th></th>\n",
       "      <th>ApplicantIncome</th>\n",
       "      <th>CoapplicantIncome</th>\n",
       "      <th>LoanAmount</th>\n",
       "      <th>Loan_Amount_Term</th>\n",
       "      <th>Credit_History</th>\n",
       "    </tr>\n",
       "  </thead>\n",
       "  <tbody>\n",
       "    <tr>\n",
       "      <th>count</th>\n",
       "      <td>367.000000</td>\n",
       "      <td>367.000000</td>\n",
       "      <td>362.000000</td>\n",
       "      <td>361.000000</td>\n",
       "      <td>338.000000</td>\n",
       "    </tr>\n",
       "    <tr>\n",
       "      <th>mean</th>\n",
       "      <td>4805.599455</td>\n",
       "      <td>1569.577657</td>\n",
       "      <td>136.132597</td>\n",
       "      <td>342.537396</td>\n",
       "      <td>0.825444</td>\n",
       "    </tr>\n",
       "    <tr>\n",
       "      <th>std</th>\n",
       "      <td>4910.685399</td>\n",
       "      <td>2334.232099</td>\n",
       "      <td>61.366652</td>\n",
       "      <td>65.156643</td>\n",
       "      <td>0.380150</td>\n",
       "    </tr>\n",
       "    <tr>\n",
       "      <th>min</th>\n",
       "      <td>0.000000</td>\n",
       "      <td>0.000000</td>\n",
       "      <td>28.000000</td>\n",
       "      <td>6.000000</td>\n",
       "      <td>0.000000</td>\n",
       "    </tr>\n",
       "    <tr>\n",
       "      <th>25%</th>\n",
       "      <td>2864.000000</td>\n",
       "      <td>0.000000</td>\n",
       "      <td>100.250000</td>\n",
       "      <td>360.000000</td>\n",
       "      <td>1.000000</td>\n",
       "    </tr>\n",
       "    <tr>\n",
       "      <th>50%</th>\n",
       "      <td>3786.000000</td>\n",
       "      <td>1025.000000</td>\n",
       "      <td>125.000000</td>\n",
       "      <td>360.000000</td>\n",
       "      <td>1.000000</td>\n",
       "    </tr>\n",
       "    <tr>\n",
       "      <th>75%</th>\n",
       "      <td>5060.000000</td>\n",
       "      <td>2430.500000</td>\n",
       "      <td>158.000000</td>\n",
       "      <td>360.000000</td>\n",
       "      <td>1.000000</td>\n",
       "    </tr>\n",
       "    <tr>\n",
       "      <th>max</th>\n",
       "      <td>72529.000000</td>\n",
       "      <td>24000.000000</td>\n",
       "      <td>550.000000</td>\n",
       "      <td>480.000000</td>\n",
       "      <td>1.000000</td>\n",
       "    </tr>\n",
       "  </tbody>\n",
       "</table>\n",
       "</div>"
      ],
      "text/plain": [
       "       ApplicantIncome  CoapplicantIncome  LoanAmount  Loan_Amount_Term  \\\n",
       "count       367.000000         367.000000  362.000000        361.000000   \n",
       "mean       4805.599455        1569.577657  136.132597        342.537396   \n",
       "std        4910.685399        2334.232099   61.366652         65.156643   \n",
       "min           0.000000           0.000000   28.000000          6.000000   \n",
       "25%        2864.000000           0.000000  100.250000        360.000000   \n",
       "50%        3786.000000        1025.000000  125.000000        360.000000   \n",
       "75%        5060.000000        2430.500000  158.000000        360.000000   \n",
       "max       72529.000000       24000.000000  550.000000        480.000000   \n",
       "\n",
       "       Credit_History  \n",
       "count      338.000000  \n",
       "mean         0.825444  \n",
       "std          0.380150  \n",
       "min          0.000000  \n",
       "25%          1.000000  \n",
       "50%          1.000000  \n",
       "75%          1.000000  \n",
       "max          1.000000  "
      ]
     },
     "execution_count": 36,
     "metadata": {},
     "output_type": "execute_result"
    }
   ],
   "source": [
    "loan_test.describe()"
   ]
  },
  {
   "cell_type": "markdown",
   "id": "c413af41",
   "metadata": {},
   "source": [
    "## Repeating the same cleaning process for the test csv file"
   ]
  },
  {
   "cell_type": "code",
   "execution_count": 37,
   "id": "687da2be",
   "metadata": {},
   "outputs": [],
   "source": [
    "#label encoding for categorical variables\n",
    "le1 = LabelEncoder()\n",
    "loan_test['Self_Employed'] = le1.fit_transform(loan_test['Self_Employed'])\n",
    "loan_test['Property_Area'] = le1.fit_transform(loan_test['Property_Area'])\n",
    "loan_test['Education'] = le1.fit_transform(loan_test['Education'])\n",
    "loan_test['Gender'] = le1.fit_transform(loan_test['Gender'])\n",
    "loan_test['Married'] = le1.fit_transform(loan_test['Married'])\n"
   ]
  },
  {
   "cell_type": "code",
   "execution_count": 38,
   "id": "88f53335",
   "metadata": {},
   "outputs": [],
   "source": [
    "#change data type to categorical\n",
    "\n",
    "loan_test['Gender'] = loan_test['Gender'].astype('category')\n",
    "loan_test['Married'] = loan_test['Married'].astype('category')\n",
    "loan_test['Self_Employed'] = loan_test['Self_Employed'].astype('category')\n",
    "loan_test['Property_Area'] = loan_test['Property_Area'].astype('category')\n",
    "loan_test['Education'] = loan_test['Education'].astype('category')\n",
    "loan_test['Credit_History'] = loan_test['Credit_History'].astype('category')"
   ]
  },
  {
   "cell_type": "code",
   "execution_count": 39,
   "id": "bc11c58a",
   "metadata": {},
   "outputs": [],
   "source": [
    "loan_test = loan_test.replace(\"3+\", 3)"
   ]
  },
  {
   "cell_type": "code",
   "execution_count": 40,
   "id": "f789d0e2",
   "metadata": {},
   "outputs": [],
   "source": [
    "loan_test['Dependents'] = loan_test['Dependents'].astype('float64')"
   ]
  },
  {
   "cell_type": "code",
   "execution_count": 41,
   "id": "0c568e49",
   "metadata": {},
   "outputs": [
    {
     "name": "stdout",
     "output_type": "stream",
     "text": [
      "<class 'pandas.core.frame.DataFrame'>\n",
      "RangeIndex: 367 entries, 0 to 366\n",
      "Data columns (total 12 columns):\n",
      " #   Column             Non-Null Count  Dtype   \n",
      "---  ------             --------------  -----   \n",
      " 0   Loan_ID            367 non-null    object  \n",
      " 1   Gender             367 non-null    category\n",
      " 2   Married            367 non-null    category\n",
      " 3   Dependents         357 non-null    float64 \n",
      " 4   Education          367 non-null    category\n",
      " 5   Self_Employed      367 non-null    category\n",
      " 6   ApplicantIncome    367 non-null    int64   \n",
      " 7   CoapplicantIncome  367 non-null    int64   \n",
      " 8   LoanAmount         362 non-null    float64 \n",
      " 9   Loan_Amount_Term   361 non-null    float64 \n",
      " 10  Credit_History     338 non-null    category\n",
      " 11  Property_Area      367 non-null    category\n",
      "dtypes: category(6), float64(3), int64(2), object(1)\n",
      "memory usage: 20.2+ KB\n"
     ]
    }
   ],
   "source": [
    "loan_test.info()"
   ]
  },
  {
   "cell_type": "code",
   "execution_count": 42,
   "id": "b3a76693",
   "metadata": {},
   "outputs": [],
   "source": [
    "loan_test['Dependents'] = loan_test['Dependents'].fillna(0)\n",
    "loan_test['Loan_Amount_Term'] = loan_test['Loan_Amount_Term'].fillna(360)\n",
    "loan_test['LoanAmount'] = loan_test['LoanAmount'].fillna(loan_test['LoanAmount'].mean())\n",
    "loan_test['Credit_History'] = loan_test['Credit_History'].fillna(0)"
   ]
  },
  {
   "cell_type": "code",
   "execution_count": 43,
   "id": "acb2f350",
   "metadata": {},
   "outputs": [
    {
     "name": "stdout",
     "output_type": "stream",
     "text": [
      "<class 'pandas.core.frame.DataFrame'>\n",
      "RangeIndex: 367 entries, 0 to 366\n",
      "Data columns (total 12 columns):\n",
      " #   Column             Non-Null Count  Dtype   \n",
      "---  ------             --------------  -----   \n",
      " 0   Loan_ID            367 non-null    object  \n",
      " 1   Gender             367 non-null    category\n",
      " 2   Married            367 non-null    category\n",
      " 3   Dependents         367 non-null    float64 \n",
      " 4   Education          367 non-null    category\n",
      " 5   Self_Employed      367 non-null    category\n",
      " 6   ApplicantIncome    367 non-null    int64   \n",
      " 7   CoapplicantIncome  367 non-null    int64   \n",
      " 8   LoanAmount         367 non-null    float64 \n",
      " 9   Loan_Amount_Term   367 non-null    float64 \n",
      " 10  Credit_History     367 non-null    category\n",
      " 11  Property_Area      367 non-null    category\n",
      "dtypes: category(6), float64(3), int64(2), object(1)\n",
      "memory usage: 20.2+ KB\n"
     ]
    }
   ],
   "source": [
    "loan_test.info()"
   ]
  },
  {
   "cell_type": "code",
   "execution_count": 53,
   "id": "3c0bf1e5",
   "metadata": {},
   "outputs": [],
   "source": [
    "X_for_pred = loan_test.drop('Loan_ID', axis = 1)"
   ]
  },
  {
   "cell_type": "code",
   "execution_count": 54,
   "id": "de40948c",
   "metadata": {},
   "outputs": [],
   "source": [
    "predicted_values = classifier_rf2.predict(X_for_pred)"
   ]
  },
  {
   "cell_type": "code",
   "execution_count": 55,
   "id": "2a70ae8a",
   "metadata": {},
   "outputs": [
    {
     "data": {
      "text/plain": [
       "367"
      ]
     },
     "execution_count": 55,
     "metadata": {},
     "output_type": "execute_result"
    }
   ],
   "source": [
    "len(predicted_values)"
   ]
  },
  {
   "cell_type": "code",
   "execution_count": 56,
   "id": "9203ffa9",
   "metadata": {},
   "outputs": [],
   "source": [
    "predicted_values = le.inverse_transform(predicted_values)"
   ]
  },
  {
   "cell_type": "code",
   "execution_count": 57,
   "id": "8a27d6b5",
   "metadata": {},
   "outputs": [],
   "source": [
    "predicted_values = pd.DataFrame(predicted_values)"
   ]
  },
  {
   "cell_type": "code",
   "execution_count": 58,
   "id": "2cf46afa",
   "metadata": {},
   "outputs": [
    {
     "data": {
      "text/html": [
       "<div>\n",
       "<style scoped>\n",
       "    .dataframe tbody tr th:only-of-type {\n",
       "        vertical-align: middle;\n",
       "    }\n",
       "\n",
       "    .dataframe tbody tr th {\n",
       "        vertical-align: top;\n",
       "    }\n",
       "\n",
       "    .dataframe thead th {\n",
       "        text-align: right;\n",
       "    }\n",
       "</style>\n",
       "<table border=\"1\" class=\"dataframe\">\n",
       "  <thead>\n",
       "    <tr style=\"text-align: right;\">\n",
       "      <th></th>\n",
       "      <th>0</th>\n",
       "    </tr>\n",
       "  </thead>\n",
       "  <tbody>\n",
       "    <tr>\n",
       "      <th>0</th>\n",
       "      <td>Y</td>\n",
       "    </tr>\n",
       "    <tr>\n",
       "      <th>1</th>\n",
       "      <td>Y</td>\n",
       "    </tr>\n",
       "    <tr>\n",
       "      <th>2</th>\n",
       "      <td>Y</td>\n",
       "    </tr>\n",
       "    <tr>\n",
       "      <th>3</th>\n",
       "      <td>N</td>\n",
       "    </tr>\n",
       "    <tr>\n",
       "      <th>4</th>\n",
       "      <td>Y</td>\n",
       "    </tr>\n",
       "  </tbody>\n",
       "</table>\n",
       "</div>"
      ],
      "text/plain": [
       "   0\n",
       "0  Y\n",
       "1  Y\n",
       "2  Y\n",
       "3  N\n",
       "4  Y"
      ]
     },
     "execution_count": 58,
     "metadata": {},
     "output_type": "execute_result"
    }
   ],
   "source": [
    "predicted_values.head()"
   ]
  },
  {
   "cell_type": "code",
   "execution_count": 59,
   "id": "533b92a2",
   "metadata": {},
   "outputs": [],
   "source": [
    "predicted_values.to_csv(r'/Users/kikelomoobayemi/Downloads/predicted_values.csv')"
   ]
  }
 ],
 "metadata": {
  "kernelspec": {
   "display_name": "Python 3 (ipykernel)",
   "language": "python",
   "name": "python3"
  },
  "language_info": {
   "codemirror_mode": {
    "name": "ipython",
    "version": 3
   },
   "file_extension": ".py",
   "mimetype": "text/x-python",
   "name": "python",
   "nbconvert_exporter": "python",
   "pygments_lexer": "ipython3",
   "version": "3.9.7"
  }
 },
 "nbformat": 4,
 "nbformat_minor": 5
}
